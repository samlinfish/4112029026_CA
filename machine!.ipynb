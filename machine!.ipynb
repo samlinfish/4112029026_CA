{
  "nbformat": 4,
  "nbformat_minor": 0,
  "metadata": {
    "colab": {
      "provenance": [],
      "authorship_tag": "ABX9TyNuzDmHZyQHMDkp3PwHxRTI",
      "include_colab_link": true
    },
    "kernelspec": {
      "name": "python3",
      "display_name": "Python 3"
    },
    "language_info": {
      "name": "python"
    }
  },
  "cells": [
    {
      "cell_type": "markdown",
      "metadata": {
        "id": "view-in-github",
        "colab_type": "text"
      },
      "source": [
        "<a href=\"https://colab.research.google.com/github/samlinfish/4112029026_CA/blob/main/machine!.ipynb\" target=\"_parent\"><img src=\"https://colab.research.google.com/assets/colab-badge.svg\" alt=\"Open In Colab\"/></a>"
      ]
    },
    {
      "cell_type": "code",
      "execution_count": 9,
      "metadata": {
        "colab": {
          "base_uri": "https://localhost:8080/"
        },
        "id": "kqPzYKTGRGPW",
        "outputId": "b46b187b-f81d-415f-ab3d-00dd854f7371"
      },
      "outputs": [
        {
          "output_type": "stream",
          "name": "stdout",
          "text": [
            "Drive already mounted at /content/drive; to attempt to forcibly remount, call drive.mount(\"/content/drive\", force_remount=True).\n",
            "     sepal_length  sepal_width  petal_length  petal_width         species\n",
            "0             5.1          3.5           1.4          0.2     Iris-setosa\n",
            "1             4.9          3.0           1.4          0.2     Iris-setosa\n",
            "2             4.7          3.2           1.3          0.2     Iris-setosa\n",
            "3             4.6          3.1           1.5          0.2     Iris-setosa\n",
            "4             5.0          3.6           1.4          0.2     Iris-setosa\n",
            "..            ...          ...           ...          ...             ...\n",
            "145           6.7          3.0           5.2          2.3  Iris-virginica\n",
            "146           6.3          2.5           5.0          1.9  Iris-virginica\n",
            "147           6.5          3.0           5.2          2.0  Iris-virginica\n",
            "148           6.2          3.4           5.4          2.3  Iris-virginica\n",
            "149           5.9          3.0           5.1          1.8  Iris-virginica\n",
            "\n",
            "[150 rows x 5 columns]\n",
            "\n",
            "Cluster 0:\n",
            "0     0\n",
            "1     0\n",
            "2     0\n",
            "3     0\n",
            "4     0\n",
            "5     0\n",
            "6     0\n",
            "7     0\n",
            "8     0\n",
            "9     0\n",
            "10    0\n",
            "11    0\n",
            "12    0\n",
            "13    0\n",
            "14    0\n",
            "15    0\n",
            "16    0\n",
            "17    0\n",
            "18    0\n",
            "19    0\n",
            "Name: Cluster, dtype: int32\n",
            "\n",
            "Cluster 1:\n",
            "50    1\n",
            "51    1\n",
            "53    1\n",
            "54    1\n",
            "55    1\n",
            "56    1\n",
            "57    1\n",
            "58    1\n",
            "59    1\n",
            "60    1\n",
            "61    1\n",
            "62    1\n",
            "63    1\n",
            "64    1\n",
            "65    1\n",
            "66    1\n",
            "67    1\n",
            "68    1\n",
            "69    1\n",
            "70    1\n",
            "Name: Cluster, dtype: int32\n",
            "\n",
            "Cluster 2:\n",
            "52     2\n",
            "77     2\n",
            "100    2\n",
            "102    2\n",
            "103    2\n",
            "104    2\n",
            "105    2\n",
            "107    2\n",
            "108    2\n",
            "109    2\n",
            "110    2\n",
            "111    2\n",
            "112    2\n",
            "115    2\n",
            "116    2\n",
            "117    2\n",
            "118    2\n",
            "120    2\n",
            "122    2\n",
            "124    2\n",
            "Name: Cluster, dtype: int32\n"
          ]
        },
        {
          "output_type": "stream",
          "name": "stderr",
          "text": [
            "/usr/local/lib/python3.10/dist-packages/sklearn/cluster/_kmeans.py:870: FutureWarning: The default value of `n_init` will change from 10 to 'auto' in 1.4. Set the value of `n_init` explicitly to suppress the warning\n",
            "  warnings.warn(\n"
          ]
        }
      ],
      "source": [
        "from google.colab import drive\n",
        "drive.mount('/content/drive')\n",
        "import pandas as pd\n",
        "from sklearn.cluster import KMeans\n",
        "\n",
        "\n",
        "iris_data = pd.read_csv('/content/drive/MyDrive/IRIS.csv')\n",
        "print(iris_data)\n",
        "\n",
        "#use all features\n",
        "features = iris_data.iloc[:, :-1]\n",
        "\n",
        "#separate into three clusters\n",
        "kmeans = KMeans(n_clusters=3)\n",
        "\n",
        "#seperate\n",
        "iris_data['Cluster'] = kmeans.fit_predict(features)\n",
        "\n",
        "# I honestly don't understand this part :(\n",
        "for cluster_label in sorted(iris_data['Cluster'].unique()):\n",
        "    cluster_data = iris_data[iris_data['Cluster'] == cluster_label].head(20)\n",
        "    print(f'\\nCluster {cluster_label}:\\n{cluster_data[\"Cluster\"]}')\n"
      ]
    }
  ]
}