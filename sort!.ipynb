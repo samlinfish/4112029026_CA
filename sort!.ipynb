{
  "nbformat": 4,
  "nbformat_minor": 0,
  "metadata": {
    "colab": {
      "provenance": [],
      "mount_file_id": "1tNWmKb9UM2tgH9KyhHiq1msc8q8j4PhP",
      "authorship_tag": "ABX9TyO/JI2/pQmi9ZmoO9izoVu+",
      "include_colab_link": true
    },
    "kernelspec": {
      "name": "python3",
      "display_name": "Python 3"
    },
    "language_info": {
      "name": "python"
    }
  },
  "cells": [
    {
      "cell_type": "markdown",
      "metadata": {
        "id": "view-in-github",
        "colab_type": "text"
      },
      "source": [
        "<a href=\"https://colab.research.google.com/github/samlinfish/4112029026_CA/blob/main/sort!.ipynb\" target=\"_parent\"><img src=\"https://colab.research.google.com/assets/colab-badge.svg\" alt=\"Open In Colab\"/></a>"
      ]
    },
    {
      "cell_type": "code",
      "execution_count": 19,
      "metadata": {
        "colab": {
          "base_uri": "https://localhost:8080/"
        },
        "id": "-T0wOAYkFAaa",
        "outputId": "75653675-a604-4fe8-9873-89f22c505bd0"
      },
      "outputs": [
        {
          "output_type": "stream",
          "name": "stdout",
          "text": [
            "[24, 7, 9, 15, 21]\n",
            "[7, 24, 9, 15, 21]\n",
            "[7, 9, 24, 15, 21]\n",
            "[7, 9, 15, 24, 21]\n",
            "[7, 9, 15, 21, 24]\n",
            "[7, 9, 15, 21, 24]\n",
            "[7, 9, 15, 21, 24]\n",
            "[7, 9, 15, 21, 24]\n",
            "[7, 9, 15, 21, 24]\n",
            "[7, 9, 15, 21, 24]\n",
            "[7, 9, 15, 21, 24]\n"
          ]
        }
      ],
      "source": [
        "A = [7,8,9]\n",
        "B = [2,3,2]\n",
        "C = [3,5,1]\n",
        "D = [3,3,9]\n",
        "E = [6,7,8]\n",
        "\n",
        "sumA = sum(int(num) for (num) in A)\n",
        "sumB = sum(int(num) for (num) in B)\n",
        "sumC = sum(int(num) for (num) in C)\n",
        "sumD = sum(int(num) for (num) in D)\n",
        "sumE = sum(int(num) for (num) in E)\n",
        "\n",
        "sumList = [sumA, sumB, sumC, sumD, sumE]\n",
        "\n",
        "print(sumList)\n",
        "\n",
        "def Bubble(arr): # nothing to be said\n",
        "  n = len(arr)\n",
        "  for i in range(n):\n",
        "   for j in range(0, n-1-i):\n",
        "    if arr[j] > arr[j+1]:\n",
        "     arr[j], arr[j+1] = arr[j+1], arr[j]\n",
        "\n",
        "    print(arr)\n",
        "\n",
        "Bubble(sumList)"
      ]
    },
    {
      "cell_type": "code",
      "source": [
        "A = [7,8,9]\n",
        "B = [2,3,2]\n",
        "C = [3,5,1]\n",
        "D = [3,3,9]\n",
        "E = [6,7,8]\n",
        "\n",
        "sumA = sum(int(num) for (num) in A)\n",
        "sumB = sum(int(num) for (num) in B)\n",
        "sumC = sum(int(num) for (num) in C)\n",
        "sumD = sum(int(num) for (num) in D)\n",
        "sumE = sum(int(num) for (num) in E)\n",
        "\n",
        "sumList = [sumA, sumB, sumC, sumD, sumE]\n",
        "\n",
        "print(sumList)\n",
        "\n",
        "def Quick(arr):\n",
        "    if len(arr) <= 1:\n",
        "        return arr\n",
        "\n",
        "    print(\"current\", arr)\n",
        "\n",
        "    pivot = arr[len(arr) // 2] #set the pivot to be in middle of the array\n",
        "    left = [x for x in arr if x < pivot] #seperate the array to be left, right, and middle\n",
        "    middle = [x for x in arr if x == pivot]\n",
        "    right = [x for x in arr if x > pivot]\n",
        "\n",
        "    sorted = Quick(left) + middle + Quick(right) #use recursive method to seperate the array into small pieces and put them together\n",
        "\n",
        "    print(\"sorted\", sorted)\n",
        "\n",
        "    return sorted\n",
        "\n",
        "Quick(sumList)"
      ],
      "metadata": {
        "colab": {
          "base_uri": "https://localhost:8080/"
        },
        "id": "BCEVajAULr08",
        "outputId": "cdf25a0d-2647-4a6b-8357-9d45b3284639"
      },
      "execution_count": 21,
      "outputs": [
        {
          "output_type": "stream",
          "name": "stdout",
          "text": [
            "[24, 7, 9, 15, 21]\n",
            "current [24, 7, 9, 15, 21]\n",
            "current [24, 15, 21]\n",
            "current [24, 21]\n",
            "sorted [21, 24]\n",
            "sorted [15, 21, 24]\n",
            "sorted [7, 9, 15, 21, 24]\n"
          ]
        },
        {
          "output_type": "execute_result",
          "data": {
            "text/plain": [
              "[7, 9, 15, 21, 24]"
            ]
          },
          "metadata": {},
          "execution_count": 21
        }
      ]
    },
    {
      "cell_type": "code",
      "source": [
        "from google.colab import drive\n",
        "drive.mount('/content/drive')"
      ],
      "metadata": {
        "id": "IocapFw1OKgZ"
      },
      "execution_count": null,
      "outputs": []
    }
  ]
}